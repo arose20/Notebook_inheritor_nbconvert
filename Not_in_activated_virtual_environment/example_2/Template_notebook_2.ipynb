{
 "cells": [
  {
   "cell_type": "code",
   "execution_count": null,
   "id": "raising-investment",
   "metadata": {},
   "outputs": [],
   "source": [
    "import numpy as np\n",
    "import pandas as pd"
   ]
  },
  {
   "cell_type": "code",
   "execution_count": null,
   "id": "technical-latter",
   "metadata": {},
   "outputs": [],
   "source": [
    "# Step 1: Create a sample DataFrame\n",
    "data = {\n",
    "    'ID': [101, 102, 103, 104, 105],\n",
    "    'Name': ['Alice', 'Bob', 'Charlie', 'David', 'Eva'],\n",
    "    'Age': [25, 30, 35, 40, 45],\n",
    "    'Salary': [50000, 60000, 70000, 80000, 90000],\n",
    "    'Department': ['HR', 'IT', 'Finance', 'Marketing', 'Operations']\n",
    "}\n",
    "\n",
    "df = pd.DataFrame(data)\n",
    "df"
   ]
  },
  {
   "cell_type": "code",
   "execution_count": null,
   "id": "unauthorized-benjamin",
   "metadata": {},
   "outputs": [],
   "source": [
    "# Step 2: Adding new columns with more variability\n",
    "df['Experience'] = df['Age'] - 22 + np.random.randint(-2, 3, size=len(df))  # Adding randomness to experience\n",
    "df['Bonus'] = df['Salary'] * (0.05 + np.random.random(len(df)) * 0.10)  # Random bonus between 5% and 15%\n",
    "df['Seniority Level'] = pd.cut(df['Experience'], bins=[0, 5, 10, 15, 20], labels=['Junior', 'Mid', 'Senior', 'Lead'], right=False)\n",
    "df"
   ]
  },
  {
   "cell_type": "code",
   "execution_count": null,
   "id": "stretch-kazakhstan",
   "metadata": {},
   "outputs": [],
   "source": [
    "# Step 3: Investigating the DataFrame\n",
    "print(\"Full DataFrame:\\n\", df)\n",
    "print(\"\\nDataFrame Info:\")\n",
    "print(df.info())\n",
    "print(\"\\nStatistical Summary:\")\n",
    "print(df.describe())\n",
    "print(\"\\nMissing Values:\")\n",
    "print(df.isnull().sum())\n",
    "\n",
    "# Select only numeric columns for the correlation matrix\n",
    "numeric_df = df.select_dtypes(include=['number'])\n",
    "print(\"\\nCorrelation Matrix:\")\n",
    "print(numeric_df.corr())\n"
   ]
  },
  {
   "cell_type": "code",
   "execution_count": null,
   "id": "outdoor-cambodia",
   "metadata": {},
   "outputs": [],
   "source": [
    "save_checkpoint = True"
   ]
  },
  {
   "cell_type": "code",
   "execution_count": null,
   "id": "above-marijuana",
   "metadata": {},
   "outputs": [],
   "source": [
    "# Step 4: Full Investigation Report\n",
    "def full_investigation_report(df):\n",
    "    report = \"\"\n",
    "    report += \"Full DataFrame:\\n\" + df.to_string() + \"\\n\\n\"\n",
    "    report += \"DataFrame Info:\\n\" + str(df.info()) + \"\\n\\n\"\n",
    "    report += \"Statistical Summary:\\n\" + df.describe().to_string() + \"\\n\\n\"\n",
    "    report += \"Missing Values:\\n\" + df.isnull().sum().to_string() + \"\\n\\n\"\n",
    "    report += \"Correlation Matrix:\\n\" + df.select_dtypes(include=['number']).corr().to_string() + \"\\n\"\n",
    "    return report\n",
    "\n",
    "# Generate the report\n",
    "report = full_investigation_report(df)\n",
    "print(report)"
   ]
  },
  {
   "cell_type": "code",
   "execution_count": null,
   "id": "stunning-processing",
   "metadata": {},
   "outputs": [],
   "source": [
    "save_checkpoint = True"
   ]
  },
  {
   "cell_type": "code",
   "execution_count": null,
   "id": "referenced-loading",
   "metadata": {},
   "outputs": [],
   "source": [
    "# Step 5: Save the final DataFrame to a CSV file\n",
    "df.to_csv('final_dataframe.csv', index=False)"
   ]
  }
 ],
 "metadata": {
  "kernelspec": {
   "display_name": "YS_env_farm",
   "language": "python",
   "name": "python3"
  },
  "language_info": {
   "codemirror_mode": {
    "name": "ipython",
    "version": 3
   },
   "file_extension": ".py",
   "mimetype": "text/x-python",
   "name": "python",
   "nbconvert_exporter": "python",
   "pygments_lexer": "ipython3",
   "version": "3.9.4"
  }
 },
 "nbformat": 4,
 "nbformat_minor": 5
}
