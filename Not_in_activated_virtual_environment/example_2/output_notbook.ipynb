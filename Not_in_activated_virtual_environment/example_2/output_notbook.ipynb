{
 "cells": [
  {
   "cell_type": "code",
   "execution_count": 1,
   "id": "016d9f9b",
   "metadata": {
    "execution": {
     "iopub.execute_input": "2024-08-14T23:00:35.337020Z",
     "iopub.status.busy": "2024-08-14T23:00:35.336698Z",
     "iopub.status.idle": "2024-08-14T23:00:35.705015Z",
     "shell.execute_reply": "2024-08-14T23:00:35.704102Z"
    }
   },
   "outputs": [],
   "source": [
    "import numpy as np\n",
    "import pandas as pd"
   ]
  },
  {
   "cell_type": "code",
   "execution_count": 2,
   "id": "61152058",
   "metadata": {
    "execution": {
     "iopub.execute_input": "2024-08-14T23:00:35.708492Z",
     "iopub.status.busy": "2024-08-14T23:00:35.708151Z",
     "iopub.status.idle": "2024-08-14T23:00:35.723639Z",
     "shell.execute_reply": "2024-08-14T23:00:35.722973Z"
    }
   },
   "outputs": [
    {
     "data": {
      "text/html": [
       "<div>\n",
       "<style scoped>\n",
       "    .dataframe tbody tr th:only-of-type {\n",
       "        vertical-align: middle;\n",
       "    }\n",
       "\n",
       "    .dataframe tbody tr th {\n",
       "        vertical-align: top;\n",
       "    }\n",
       "\n",
       "    .dataframe thead th {\n",
       "        text-align: right;\n",
       "    }\n",
       "</style>\n",
       "<table border=\"1\" class=\"dataframe\">\n",
       "  <thead>\n",
       "    <tr style=\"text-align: right;\">\n",
       "      <th></th>\n",
       "      <th>ID</th>\n",
       "      <th>Name</th>\n",
       "      <th>Age</th>\n",
       "      <th>Salary</th>\n",
       "      <th>Department</th>\n",
       "    </tr>\n",
       "  </thead>\n",
       "  <tbody>\n",
       "    <tr>\n",
       "      <th>0</th>\n",
       "      <td>101</td>\n",
       "      <td>Alice</td>\n",
       "      <td>25</td>\n",
       "      <td>50000</td>\n",
       "      <td>HR</td>\n",
       "    </tr>\n",
       "    <tr>\n",
       "      <th>1</th>\n",
       "      <td>102</td>\n",
       "      <td>Bob</td>\n",
       "      <td>30</td>\n",
       "      <td>60000</td>\n",
       "      <td>IT</td>\n",
       "    </tr>\n",
       "    <tr>\n",
       "      <th>2</th>\n",
       "      <td>103</td>\n",
       "      <td>Charlie</td>\n",
       "      <td>35</td>\n",
       "      <td>70000</td>\n",
       "      <td>Finance</td>\n",
       "    </tr>\n",
       "    <tr>\n",
       "      <th>3</th>\n",
       "      <td>104</td>\n",
       "      <td>David</td>\n",
       "      <td>40</td>\n",
       "      <td>80000</td>\n",
       "      <td>Marketing</td>\n",
       "    </tr>\n",
       "    <tr>\n",
       "      <th>4</th>\n",
       "      <td>105</td>\n",
       "      <td>Eva</td>\n",
       "      <td>45</td>\n",
       "      <td>90000</td>\n",
       "      <td>Operations</td>\n",
       "    </tr>\n",
       "  </tbody>\n",
       "</table>\n",
       "</div>"
      ],
      "text/plain": [
       "    ID     Name  Age  Salary  Department\n",
       "0  101    Alice   25   50000          HR\n",
       "1  102      Bob   30   60000          IT\n",
       "2  103  Charlie   35   70000     Finance\n",
       "3  104    David   40   80000   Marketing\n",
       "4  105      Eva   45   90000  Operations"
      ]
     },
     "execution_count": 2,
     "metadata": {},
     "output_type": "execute_result"
    }
   ],
   "source": [
    "# Step 1: Create a sample DataFrame\n",
    "data = {\n",
    "    'ID': [101, 102, 103, 104, 105],\n",
    "    'Name': ['Alice', 'Bob', 'Charlie', 'David', 'Eva'],\n",
    "    'Age': [25, 30, 35, 40, 45],\n",
    "    'Salary': [50000, 60000, 70000, 80000, 90000],\n",
    "    'Department': ['HR', 'IT', 'Finance', 'Marketing', 'Operations']\n",
    "}\n",
    "\n",
    "df = pd.DataFrame(data)\n",
    "df"
   ]
  },
  {
   "cell_type": "code",
   "execution_count": 3,
   "id": "41f2551f",
   "metadata": {
    "execution": {
     "iopub.execute_input": "2024-08-14T23:00:35.726278Z",
     "iopub.status.busy": "2024-08-14T23:00:35.725915Z",
     "iopub.status.idle": "2024-08-14T23:00:35.751213Z",
     "shell.execute_reply": "2024-08-14T23:00:35.750368Z"
    }
   },
   "outputs": [
    {
     "data": {
      "text/html": [
       "<div>\n",
       "<style scoped>\n",
       "    .dataframe tbody tr th:only-of-type {\n",
       "        vertical-align: middle;\n",
       "    }\n",
       "\n",
       "    .dataframe tbody tr th {\n",
       "        vertical-align: top;\n",
       "    }\n",
       "\n",
       "    .dataframe thead th {\n",
       "        text-align: right;\n",
       "    }\n",
       "</style>\n",
       "<table border=\"1\" class=\"dataframe\">\n",
       "  <thead>\n",
       "    <tr style=\"text-align: right;\">\n",
       "      <th></th>\n",
       "      <th>ID</th>\n",
       "      <th>Name</th>\n",
       "      <th>Age</th>\n",
       "      <th>Salary</th>\n",
       "      <th>Department</th>\n",
       "      <th>Experience</th>\n",
       "      <th>Bonus</th>\n",
       "      <th>Seniority Level</th>\n",
       "    </tr>\n",
       "  </thead>\n",
       "  <tbody>\n",
       "    <tr>\n",
       "      <th>0</th>\n",
       "      <td>101</td>\n",
       "      <td>Alice</td>\n",
       "      <td>25</td>\n",
       "      <td>50000</td>\n",
       "      <td>HR</td>\n",
       "      <td>1</td>\n",
       "      <td>6800.196213</td>\n",
       "      <td>Junior</td>\n",
       "    </tr>\n",
       "    <tr>\n",
       "      <th>1</th>\n",
       "      <td>102</td>\n",
       "      <td>Bob</td>\n",
       "      <td>30</td>\n",
       "      <td>60000</td>\n",
       "      <td>IT</td>\n",
       "      <td>7</td>\n",
       "      <td>7792.875377</td>\n",
       "      <td>Mid</td>\n",
       "    </tr>\n",
       "    <tr>\n",
       "      <th>2</th>\n",
       "      <td>103</td>\n",
       "      <td>Charlie</td>\n",
       "      <td>35</td>\n",
       "      <td>70000</td>\n",
       "      <td>Finance</td>\n",
       "      <td>14</td>\n",
       "      <td>8093.679153</td>\n",
       "      <td>Senior</td>\n",
       "    </tr>\n",
       "    <tr>\n",
       "      <th>3</th>\n",
       "      <td>104</td>\n",
       "      <td>David</td>\n",
       "      <td>40</td>\n",
       "      <td>80000</td>\n",
       "      <td>Marketing</td>\n",
       "      <td>18</td>\n",
       "      <td>5403.351937</td>\n",
       "      <td>Lead</td>\n",
       "    </tr>\n",
       "    <tr>\n",
       "      <th>4</th>\n",
       "      <td>105</td>\n",
       "      <td>Eva</td>\n",
       "      <td>45</td>\n",
       "      <td>90000</td>\n",
       "      <td>Operations</td>\n",
       "      <td>24</td>\n",
       "      <td>13159.216053</td>\n",
       "      <td>NaN</td>\n",
       "    </tr>\n",
       "  </tbody>\n",
       "</table>\n",
       "</div>"
      ],
      "text/plain": [
       "    ID     Name  Age  Salary  Department  Experience         Bonus  \\\n",
       "0  101    Alice   25   50000          HR           1   6800.196213   \n",
       "1  102      Bob   30   60000          IT           7   7792.875377   \n",
       "2  103  Charlie   35   70000     Finance          14   8093.679153   \n",
       "3  104    David   40   80000   Marketing          18   5403.351937   \n",
       "4  105      Eva   45   90000  Operations          24  13159.216053   \n",
       "\n",
       "  Seniority Level  \n",
       "0          Junior  \n",
       "1             Mid  \n",
       "2          Senior  \n",
       "3            Lead  \n",
       "4             NaN  "
      ]
     },
     "execution_count": 3,
     "metadata": {},
     "output_type": "execute_result"
    }
   ],
   "source": [
    "# Step 2: Adding new columns with more variability\n",
    "df['Experience'] = df['Age'] - 22 + np.random.randint(-2, 3, size=len(df))  # Adding randomness to experience\n",
    "df['Bonus'] = df['Salary'] * (0.05 + np.random.random(len(df)) * 0.10)  # Random bonus between 5% and 15%\n",
    "df['Seniority Level'] = pd.cut(df['Experience'], bins=[0, 5, 10, 15, 20], labels=['Junior', 'Mid', 'Senior', 'Lead'], right=False)\n",
    "df"
   ]
  },
  {
   "cell_type": "code",
   "execution_count": 4,
   "id": "529e33d8",
   "metadata": {
    "execution": {
     "iopub.execute_input": "2024-08-14T23:00:35.753986Z",
     "iopub.status.busy": "2024-08-14T23:00:35.753486Z",
     "iopub.status.idle": "2024-08-14T23:00:35.793570Z",
     "shell.execute_reply": "2024-08-14T23:00:35.792840Z"
    }
   },
   "outputs": [
    {
     "name": "stdout",
     "output_type": "stream",
     "text": [
      "Full DataFrame:\n",
      "     ID     Name  Age  Salary  Department  Experience         Bonus  \\\n",
      "0  101    Alice   25   50000          HR           1   6800.196213   \n",
      "1  102      Bob   30   60000          IT           7   7792.875377   \n",
      "2  103  Charlie   35   70000     Finance          14   8093.679153   \n",
      "3  104    David   40   80000   Marketing          18   5403.351937   \n",
      "4  105      Eva   45   90000  Operations          24  13159.216053   \n",
      "\n",
      "  Seniority Level  \n",
      "0          Junior  \n",
      "1             Mid  \n",
      "2          Senior  \n",
      "3            Lead  \n",
      "4             NaN  \n",
      "\n",
      "DataFrame Info:\n",
      "<class 'pandas.core.frame.DataFrame'>\n",
      "RangeIndex: 5 entries, 0 to 4\n",
      "Data columns (total 8 columns):\n",
      " #   Column           Non-Null Count  Dtype   \n",
      "---  ------           --------------  -----   \n",
      " 0   ID               5 non-null      int64   \n",
      " 1   Name             5 non-null      object  \n",
      " 2   Age              5 non-null      int64   \n",
      " 3   Salary           5 non-null      int64   \n",
      " 4   Department       5 non-null      object  \n",
      " 5   Experience       5 non-null      int64   \n",
      " 6   Bonus            5 non-null      float64 \n",
      " 7   Seniority Level  4 non-null      category\n",
      "dtypes: category(1), float64(1), int64(4), object(2)\n",
      "memory usage: 617.0+ bytes\n",
      "None\n",
      "\n",
      "Statistical Summary:\n",
      "               ID        Age        Salary  Experience         Bonus\n",
      "count    5.000000   5.000000      5.000000    5.000000      5.000000\n",
      "mean   103.000000  35.000000  70000.000000   12.800000   8249.863747\n",
      "std      1.581139   7.905694  15811.388301    9.038805   2938.500362\n",
      "min    101.000000  25.000000  50000.000000    1.000000   5403.351937\n",
      "25%    102.000000  30.000000  60000.000000    7.000000   6800.196213\n",
      "50%    103.000000  35.000000  70000.000000   14.000000   7792.875377\n",
      "75%    104.000000  40.000000  80000.000000   18.000000   8093.679153\n",
      "max    105.000000  45.000000  90000.000000   24.000000  13159.216053\n",
      "\n",
      "Missing Values:\n",
      "ID                 0\n",
      "Name               0\n",
      "Age                0\n",
      "Salary             0\n",
      "Department         0\n",
      "Experience         0\n",
      "Bonus              0\n",
      "Seniority Level    1\n",
      "dtype: int64\n",
      "\n",
      "Correlation Matrix:\n",
      "                  ID       Age    Salary  Experience     Bonus\n",
      "ID          1.000000  1.000000  1.000000    0.997089  0.555753\n",
      "Age         1.000000  1.000000  1.000000    0.997089  0.555753\n",
      "Salary      1.000000  1.000000  1.000000    0.997089  0.555753\n",
      "Experience  0.997089  0.997089  0.997089    1.000000  0.562414\n",
      "Bonus       0.555753  0.555753  0.555753    0.562414  1.000000\n"
     ]
    }
   ],
   "source": [
    "# Step 3: Investigating the DataFrame\n",
    "print(\"Full DataFrame:\\n\", df)\n",
    "print(\"\\nDataFrame Info:\")\n",
    "print(df.info())\n",
    "print(\"\\nStatistical Summary:\")\n",
    "print(df.describe())\n",
    "print(\"\\nMissing Values:\")\n",
    "print(df.isnull().sum())\n",
    "\n",
    "# Select only numeric columns for the correlation matrix\n",
    "numeric_df = df.select_dtypes(include=['number'])\n",
    "print(\"\\nCorrelation Matrix:\")\n",
    "print(numeric_df.corr())\n"
   ]
  },
  {
   "cell_type": "code",
   "execution_count": 5,
   "id": "dc68340a",
   "metadata": {
    "execution": {
     "iopub.execute_input": "2024-08-14T23:00:35.796156Z",
     "iopub.status.busy": "2024-08-14T23:00:35.795917Z",
     "iopub.status.idle": "2024-08-14T23:00:35.799377Z",
     "shell.execute_reply": "2024-08-14T23:00:35.798692Z"
    }
   },
   "outputs": [],
   "source": [
    "save_checkpoint = True"
   ]
  },
  {
   "cell_type": "code",
   "execution_count": 6,
   "id": "6622781f",
   "metadata": {
    "execution": {
     "iopub.execute_input": "2024-08-14T23:00:35.802015Z",
     "iopub.status.busy": "2024-08-14T23:00:35.801674Z",
     "iopub.status.idle": "2024-08-14T23:00:35.828932Z",
     "shell.execute_reply": "2024-08-14T23:00:35.828043Z"
    }
   },
   "outputs": [
    {
     "name": "stdout",
     "output_type": "stream",
     "text": [
      "<class 'pandas.core.frame.DataFrame'>\n",
      "RangeIndex: 5 entries, 0 to 4\n",
      "Data columns (total 8 columns):\n",
      " #   Column           Non-Null Count  Dtype   \n",
      "---  ------           --------------  -----   \n",
      " 0   ID               5 non-null      int64   \n",
      " 1   Name             5 non-null      object  \n",
      " 2   Age              5 non-null      int64   \n",
      " 3   Salary           5 non-null      int64   \n",
      " 4   Department       5 non-null      object  \n",
      " 5   Experience       5 non-null      int64   \n",
      " 6   Bonus            5 non-null      float64 \n",
      " 7   Seniority Level  4 non-null      category\n",
      "dtypes: category(1), float64(1), int64(4), object(2)\n",
      "memory usage: 617.0+ bytes\n",
      "Full DataFrame:\n",
      "    ID     Name  Age  Salary  Department  Experience         Bonus Seniority Level\n",
      "0  101    Alice   25   50000          HR           1   6800.196213          Junior\n",
      "1  102      Bob   30   60000          IT           7   7792.875377             Mid\n",
      "2  103  Charlie   35   70000     Finance          14   8093.679153          Senior\n",
      "3  104    David   40   80000   Marketing          18   5403.351937            Lead\n",
      "4  105      Eva   45   90000  Operations          24  13159.216053             NaN\n",
      "\n",
      "DataFrame Info:\n",
      "None\n",
      "\n",
      "Statistical Summary:\n",
      "               ID        Age        Salary  Experience         Bonus\n",
      "count    5.000000   5.000000      5.000000    5.000000      5.000000\n",
      "mean   103.000000  35.000000  70000.000000   12.800000   8249.863747\n",
      "std      1.581139   7.905694  15811.388301    9.038805   2938.500362\n",
      "min    101.000000  25.000000  50000.000000    1.000000   5403.351937\n",
      "25%    102.000000  30.000000  60000.000000    7.000000   6800.196213\n",
      "50%    103.000000  35.000000  70000.000000   14.000000   7792.875377\n",
      "75%    104.000000  40.000000  80000.000000   18.000000   8093.679153\n",
      "max    105.000000  45.000000  90000.000000   24.000000  13159.216053\n",
      "\n",
      "Missing Values:\n",
      "ID                 0\n",
      "Name               0\n",
      "Age                0\n",
      "Salary             0\n",
      "Department         0\n",
      "Experience         0\n",
      "Bonus              0\n",
      "Seniority Level    1\n",
      "\n",
      "Correlation Matrix:\n",
      "                  ID       Age    Salary  Experience     Bonus\n",
      "ID          1.000000  1.000000  1.000000    0.997089  0.555753\n",
      "Age         1.000000  1.000000  1.000000    0.997089  0.555753\n",
      "Salary      1.000000  1.000000  1.000000    0.997089  0.555753\n",
      "Experience  0.997089  0.997089  0.997089    1.000000  0.562414\n",
      "Bonus       0.555753  0.555753  0.555753    0.562414  1.000000\n",
      "\n"
     ]
    }
   ],
   "source": [
    "# Step 4: Full Investigation Report\n",
    "def full_investigation_report(df):\n",
    "    report = \"\"\n",
    "    report += \"Full DataFrame:\\n\" + df.to_string() + \"\\n\\n\"\n",
    "    report += \"DataFrame Info:\\n\" + str(df.info()) + \"\\n\\n\"\n",
    "    report += \"Statistical Summary:\\n\" + df.describe().to_string() + \"\\n\\n\"\n",
    "    report += \"Missing Values:\\n\" + df.isnull().sum().to_string() + \"\\n\\n\"\n",
    "    report += \"Correlation Matrix:\\n\" + df.select_dtypes(include=['number']).corr().to_string() + \"\\n\"\n",
    "    return report\n",
    "\n",
    "# Generate the report\n",
    "report = full_investigation_report(df)\n",
    "print(report)"
   ]
  },
  {
   "cell_type": "code",
   "execution_count": 7,
   "id": "c2ae1a8d",
   "metadata": {
    "execution": {
     "iopub.execute_input": "2024-08-14T23:00:35.831731Z",
     "iopub.status.busy": "2024-08-14T23:00:35.831294Z",
     "iopub.status.idle": "2024-08-14T23:00:35.840143Z",
     "shell.execute_reply": "2024-08-14T23:00:35.839540Z"
    }
   },
   "outputs": [],
   "source": [
    "save_checkpoint = True"
   ]
  },
  {
   "cell_type": "code",
   "execution_count": 8,
   "id": "b5c111fd",
   "metadata": {
    "execution": {
     "iopub.execute_input": "2024-08-14T23:00:35.842591Z",
     "iopub.status.busy": "2024-08-14T23:00:35.842358Z",
     "iopub.status.idle": "2024-08-14T23:00:35.902449Z",
     "shell.execute_reply": "2024-08-14T23:00:35.901760Z"
    }
   },
   "outputs": [],
   "source": [
    "# Step 5: Save the final DataFrame to a CSV file\n",
    "df.to_csv('final_dataframe.csv', index=False)"
   ]
  }
 ],
 "metadata": {
  "language_info": {
   "codemirror_mode": {
    "name": "ipython",
    "version": 3
   },
   "file_extension": ".py",
   "mimetype": "text/x-python",
   "name": "python",
   "nbconvert_exporter": "python",
   "pygments_lexer": "ipython3",
   "version": "3.9.0"
  }
 },
 "nbformat": 4,
 "nbformat_minor": 5
}
